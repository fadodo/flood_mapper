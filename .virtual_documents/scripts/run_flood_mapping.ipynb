





import ee
import geemap
import datetime
import os
import __editable___flood_mapper_0_1_0_finder
from flood_mapper import authentication, data_ingestion, preprocessing, flood_detection, visualization, utils

# Initialize Google Earth Engine
try:
    authentication.initialize_ee(project_name='ee-fid')
except Exception as e:
    print(f"Error initializing GEE: {e}")
    print("Please ensure you are authenticated and have access to the specified project.")
    # Exit if GEE initialization fails, as the rest of the notebook depends on it
    exit()

print("Notebook initialization complete.")





# --- Configurable Parameters ---
event_date_str = '2025-06-02' # Flood event date
aoi_geojson_path = None # Replace with your GeoJSON path, or None for default AOI
otsu_aoi_geojson_path = None # Replace with your GeoJSON path for Otsu, or None for default AOI
sar_search_days = 12 # Search days for Sentinel-1
s2_search_days = 20 # Search days for Sentinel-2
export_results = False # True to export results to GEE Assets
asset_id_prefix = "project/ee-fid/FloodMappingResults/" # REPLACE WITH YOUR GEE ASSET PREFIX!
detection_method = "both" # Options: 'sar', 's2', 'both'

# Convert event date to ee.Date object
event_date = ee.Date(event_date_str)

# Define the main AOI
if aoi_geojson_path:
    try:
        AOI = utils.load_aoi_from_geojson(aoi_geojson_path)
        print(f"AOI loaded from {aoi_geojson_path}")
    except ValueError as e:
        print(f"Error loading AOI from GeoJSON: {e}. Using default AOI.")
        AOI = ee.Geometry.Polygon(
            [[[0.889893, 6.110515],
              [0.889893, 6.342597],
              [1.853943, 6.342597],
              [1.853943, 6.110515],
              [0.889893, 6.110515]]]
        )
        print("Using default AOI (Lomé, Togo).")
else:
    AOI = ee.Geometry.Polygon(
        [[[0.889893, 6.110515],
          [0.889893, 6.342597],
          [1.853943, 6.342597],
          [1.853943, 6.110515],
          [0.889893, 6.110515]]]
    )
    print("No AOI GeoJSON path provided. Using default AOI (Lomé, Togo).")

print(f"\nProcessing flood event for {event_date_str} in AOI: {AOI.getInfo()['coordinates']}")





sar_pre_event, sar_post_event = None, None
s2_pre_event, s2_post_event = None, None
ndwi_pre_event_mask, ndwi_post_event_mask = None, None

s1_flood_extent_image = None
s1_flooded_extend_image = None 
s1_flooded_area_sqkm = 0.0

s2_flood_extent_image = None
s2_flooded_extent_image = None
s2_flooded_area_sqkm = 0.0

if detection_method in ["sar", "both"]:
    print("\n--- Sentinel-1 Data Processing ---")
    s1_start_date = event_date.advance(-sar_search_days, 'day')
    s1_end_date = event_date.advance(sar_search_days, 'day')
    try:
        s1_collection = data_ingestion.get_sentinel1_collection(AOI, s1_start_date, s1_end_date)
        sar_pre_event, sar_post_event = preprocessing.get_pre_and_post_sar_images(
            s1_collection, AOI, event_date, sar_search_days
        )
        print("Sentinel-1 data prepared.")

        print("\n--- Flood Extent Detection (SAR-based) ---")
        s1_flood_extent_image = flood_detection.detect_flood_extent(sar_pre_event, sar_post_event, AOI, otsu_aoi_geojson_path)
        
        if s1_flood_extent_image:
            s1_flooded_extend_image = flood_detection.refine_flood_extent_with_topology(s1_flood_extent_image, AOI)
            s1_flooded_area_sqkm = utils.calculate_area(s1_flooded_extend_image, scale=10)
            print(f"Effective SAR-based flooded area (after refinement): {s1_flooded_area_sqkm:.2f} km²")
        else:
            print("SAR-based flood extent not calculated due to inconsistent pixel counts or other issues.")

    except ValueError as e:
        print(f"Sentinel-1 processing skipped due to: {e}")
        sar_pre_event, sar_post_event = None, None
        s1_flood_extent_image, s1_flooded_extend_image = None, None
    except Exception as e:
        print(f"Error during SAR flood extent detection or refinement: {e}")
        s1_flood_extent_image, s1_flooded_extend_image = None, None
else:
    print("\nSkipping SAR-based processing and flood detection as per user selection.")


if detection_method in ["s2", "both"]:
    print("\n--- Sentinel-2 Data Processing ---")
    s2_start_date = event_date.advance(-s2_search_days, 'day')
    s2_end_date = event_date.advance(s2_search_days, 'day')
    
    try:
        s2_collection = data_ingestion.get_sentinel2_collection(AOI, s2_start_date, s2_end_date)
        s2_pre_event, s2_post_event = preprocessing.get_pre_and_post_s2_images(
            s2_collection, AOI, event_date, s2_search_days
        )
        ndwi_pre_event_mask = preprocessing.calculate_ndwi(s2_pre_event).gt(0).rename("ndwi_water_pre")
        ndwi_post_event_mask = preprocessing.calculate_ndwi(s2_post_event).gt(0).rename("ndwi_water_post")
        print("Sentinel-2 data prepared and NDWI calculated.")

        print("\n--- Flood Extent Detection (Sentinel-2 NDWI-based) ---")
        s2_flood_extent_image = flood_detection.detect_flood_extent_s2_ndwi(ndwi_pre_event_mask, ndwi_post_event_mask, AOI)
        
        if s2_flood_extent_image:
            s2_flooded_extent_image = flood_detection.refine_flood_extent_with_topology(s2_flood_extent_image, AOI)
            s2_flooded_area_sqkm = utils.calculate_area(s2_flooded_extent_image, scale=10)
            print(f"Sentinel-2 NDWI-based flooded area: {s2_flooded_area_sqkm:.2f} km²")
        else:
            print("Sentinel-2 NDWI-based flood extent not calculated due to inconsistent pixel counts or other issues.")

    except ValueError as e:
        print(f"Sentinel-2 processing skipped due to: {e}")
        s2_pre_event, s2_post_event = None, None
        ndwi_pre_event_mask, ndwi_post_event_mask = None, None
        s2_flood_extent_image, s2_flooded_extent_image = None, None
    except Exception as e:
        print(f"Error during S2 flood extent detection or refinement: {e}")
        s2_flood_extent_image, s2_flooded_extent_image = None, None
else:
    print("\nSkipping Sentinel-2 processing and flood detection as per user selection.")

# --- Water Area Estimates ---
print("\nWater Area Estimates (in km²):")
if detection_method in ["s2", "both"] and ndwi_pre_event_mask and ndwi_post_event_mask:
    water_area_pre_event_mask = utils.calculate_area(ndwi_pre_event_mask, scale=10)
    water_area_post_event_mask = utils.calculate_area(ndwi_post_event_mask, scale=10)
    print(f"Pre-event Water Area (NDWI)   : {water_area_pre_event_mask:.2f} km²")
    print(f"Post-event Water Area (NDWI)  : {water_area_post_event_mask:.2f} km²")
    print(f"Flood Extent (Sentinel-2 NDWI): {s2_flooded_area_sqkm:.2f} km²")
else:
    print("Sentinel-2 Water Areas        : N/A (S2 processing skipped or failed)")

if detection_method in ["sar", "both"] and s1_flooded_extend_image:
    print(f"Effective Flooded Area (SAR)  : {s1_flooded_area_sqkm:.2f} km²")
else:
    print("SAR-based Flood Areas         : N/A (SAR processing skipped or failed)")






print("\n--- Generating Visualization ---")
map_center = AOI.centroid().coordinates().getInfo()[::-1] # [lon, lat] -> [lat, lon]
m = visualization.create_map(map_center)

if detection_method in ["sar", "both"] and sar_pre_event and sar_post_event:
    visualization.add_sar_layers(m, sar_pre_event, sar_post_event)

if detection_method in ["s2", "both"] and ndwi_pre_event_mask and ndwi_post_event_mask:
    visualization.add_ndwi_layers(m, ndwi_pre_event_mask, ndwi_post_event_mask)

# Add SAR-based flood extent layers
if detection_method in ["sar", "both"] and s1_flooded_extend_image:
    visualization.add_effective_flood_extent_layer(m, s1_flooded_extend_image, zoom_to_layer=False) 

# Add S2-based flood extent layer
if detection_method in ["s2", "both"] and s2_flooded_extent_image:
    visualization.add_s2_flood_extent_layer(m, s2_flooded_extent_image, zoom_to_layer=True) 

print("\nMap ready for display.")
m # Displays the interactive map





if export_results:
    print(f"\n--- Exporting Results to GEE Assets (Prefix: {asset_id_prefix}) ---")
    current_date_time = datetime.datetime.now().strftime("%Y%m%d_%H%M%S")

    if detection_method in ["sar", "both"] and s1_flooded_extend_image:
        export_description_effective_extent = f"Effective_Flood_Extent_SAR_{event_date_str.replace('-', '')}_{current_date_time}"
        utils.export_image_to_asset(s1_flooded_extend_image, export_description_effective_extent, asset_id_prefix, AOI)
    else:
        print("No effective SAR flood extent to export based on selection or availability.")

    if detection_method in ["s2", "both"] and s2_flooded_extent_image:
        export_description_s2_extent = f"Flood_Extent_S2_NDWI_{event_date_str.replace('-', '')}_{current_date_time}"
        utils.export_image_to_asset(s2_flooded_extent_image, export_description_s2_extent, asset_id_prefix, AOI)
    else:
        print("No Sentinel-2 NDWI flood extent to export based on selection or availability.")

else:
    print("\nSkipping results export as 'export_results' is False.")

print("\nFlood mapping process completed.")




