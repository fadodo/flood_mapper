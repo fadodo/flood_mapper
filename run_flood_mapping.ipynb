{
 "cells": [
  {
   "cell_type": "markdown",
   "id": "a8d40505",
   "metadata": {},
   "source": [
    "# **Flood Mapping with Google Earth Engine**\n",
    "This notebook provides an interactive interface for rapid flood mapping using Sentinel-1 (SAR) and Sentinel-2 (Optical) satellite data via Google Earth Engine (GEE). It allows you to choose the flood detection method (SAR, Sentinel-2, or both) and export the results."
   ]
  },
  {
   "cell_type": "markdown",
   "id": "be6bb780",
   "metadata": {},
   "source": [
    "## **1. Initialization and Imports**\n",
    "We start by importing the necessary libraries and initializing the Google Earth Engine API. Make sure you are authenticated with GEE before running this section."
   ]
  },
  {
   "cell_type": "code",
   "execution_count": 1,
   "id": "e99721d8",
   "metadata": {},
   "outputs": [
    {
     "name": "stdout",
     "output_type": "stream",
     "text": [
      "Google Earth Engine initialized successfully.\n",
      "Notebook initialization complete.\n"
     ]
    }
   ],
   "source": [
    "import ee\n",
    "import geemap\n",
    "import datetime\n",
    "import os\n",
    "from flood_mapper import authentication, data_ingestion, preprocessing, flood_detection, visualization, utils\n",
    "\n",
    "# Initialize Google Earth Engine\n",
    "try:\n",
    "    authentication.initialize_ee(project_name='ee-fid')\n",
    "except Exception as e:\n",
    "    print(f\"Error initializing GEE: {e}\")\n",
    "    print(\"Please ensure you are authenticated and have access to the specified project.\")\n",
    "    # Exit if GEE initialization fails, as the rest of the notebook depends on it\n",
    "    exit()\n",
    "\n",
    "print(\"Notebook initialization complete.\")"
   ]
  },
  {
   "cell_type": "markdown",
   "id": "f4b59b05",
   "metadata": {},
   "source": [
    "## **2. Parameter Definition**\n",
    "\n",
    "Define the key parameters for your flood mapping analysis here.\n",
    "\n",
    "- `event_date_str`: The date of the flood event (format 'YYYY-MM-DD').\n",
    "\n",
    "- `aoi_geojson_path`: Path to a GeoJSON file defining the Area of Interest (AOI). Set to None to use the default AOI (Lomé, Togo).\n",
    "\n",
    "- `otsu_aoi_geojson_path`: Path to a GeoJSON file for Otsu threshold calculation. Set to None to use the default Lac Togo polygon (handled internally by `flood_detection.py`)\n",
    "\n",
    "- `sar_search_days`: Number of days before/after event_date to search for Sentinel-1 images.\n",
    "\n",
    "- `s2_search_days`: Number of days before/after event_date to search for Sentinel-2 images.\n",
    "\n",
    "- `export_results`: Set to True to export results to GEE Assets.\n",
    "\n",
    "- `asset_id_prefix`: Prefix for the GEE Asset ID (e.g., 'users/your_username/my_flood_maps/'). **Remember to change this!**\n",
    "\n",
    "- `detection_method`: Flood detection method ('sar', 's2', or 'both')."
   ]
  },
  {
   "cell_type": "code",
   "execution_count": 2,
   "id": "dc05dfa4",
   "metadata": {},
   "outputs": [
    {
     "data": {
      "text/html": [
       "\n",
       "            <style>\n",
       "                .geemap-dark {\n",
       "                    --jp-widgets-color: white;\n",
       "                    --jp-widgets-label-color: white;\n",
       "                    --jp-ui-font-color1: white;\n",
       "                    --jp-layout-color2: #454545;\n",
       "                    background-color: #383838;\n",
       "                }\n",
       "\n",
       "                .geemap-dark .jupyter-button {\n",
       "                    --jp-layout-color3: #383838;\n",
       "                }\n",
       "\n",
       "                .geemap-colab {\n",
       "                    background-color: var(--colab-primary-surface-color, white);\n",
       "                }\n",
       "\n",
       "                .geemap-colab .jupyter-button {\n",
       "                    --jp-layout-color3: var(--colab-primary-surface-color, white);\n",
       "                }\n",
       "            </style>\n",
       "            "
      ],
      "text/plain": [
       "<IPython.core.display.HTML object>"
      ]
     },
     "metadata": {},
     "output_type": "display_data"
    },
    {
     "name": "stdout",
     "output_type": "stream",
     "text": [
      "Main AOI chargée depuis /home/fifi/FLOODING_Sentinel1/flood_mapper/data/Lomé_city.geojson\n",
      "AOI d'Otsu spécifique chargée depuis /home/fifi/FLOODING_Sentinel1/flood_mapper/data/aoi_hist_region.geojson\n",
      "\n",
      "Traitement de l'événement d'inondation pour le 2025-06-02 dans l'AOI principale : [[[1.197699562174904, 6.110970204314967], [1.7809338943232262, 6.110970204314967], [1.7809338943232262, 6.343103856706293], [1.197699562174904, 6.343103856706293], [1.197699562174904, 6.110970204314967]]]\n"
     ]
    }
   ],
   "source": [
    "# --- Paramètres configurables ---\n",
    "event_date_str = '2025-06-02' # Date de l'événement d'inondation\n",
    "aoi_geojson_path = \"/home/fifi/FLOODING_Sentinel1/flood_mapper/data/Lomé_city.geojson\" # Remplacez par votre chemin GeoJSON, ou None pour l'AOI par défaut\n",
    "otsu_aoi_geojson_path = \"/home/fifi/FLOODING_Sentinel1/flood_mapper/data/aoi_hist_region.geojson\" # Remplacez par votre chemin GeoJSON pour Otsu, ou None pour l'AOI par défaut\n",
    "sar_search_days = 12 # Jours de recherche pour Sentinel-1\n",
    "s2_search_days = 20 # Jours de recherche pour Sentinel-2\n",
    "export_results = False # True pour exporter les résultats vers les Assets GEE\n",
    "asset_id_prefix = \"project/ee-fid/FloodMappingResults/\" # REMPLACEZ PAR VOTRE PRÉFIXE D'ASSET GEE !\n",
    "detection_method = \"both\" # Options: 'sar', 's2', 'both'\n",
    "\n",
    "# Convertir la date de l'événement en objet ee.Date\n",
    "event_date = ee.Date(event_date_str)\n",
    "\n",
    "# Définir l'AOI principale\n",
    "if aoi_geojson_path:\n",
    "    try:\n",
    "        AOI = utils.load_aoi_from_geojson(aoi_geojson_path)\n",
    "        print(f\"Main AOI chargée depuis {aoi_geojson_path}\")\n",
    "    except ValueError as e:\n",
    "        print(f\"Erreur lors du chargement de l'AOI principale depuis GeoJSON : {e}. Utilisation de l'AOI par défaut.\")\n",
    "        AOI = ee.Geometry.Polygon(\n",
    "            [[[0.889893, 6.110515],\n",
    "              [0.889893, 6.342597],\n",
    "              [1.853943, 6.342597],\n",
    "              [1.853943, 6.110515],\n",
    "              [0.889893, 6.110515]]]\n",
    "        )\n",
    "        print(\"Utilisation de l'AOI principale par défaut (Lomé, Togo).\")\n",
    "else:\n",
    "    AOI = ee.Geometry.Polygon(\n",
    "        [[[0.889893, 6.110515],\n",
    "          [0.889893, 6.342597],\n",
    "          [1.853943, 6.342597],\n",
    "          [1.853943, 6.110515],\n",
    "          [0.889893, 6.110515]]]\n",
    "    )\n",
    "    print(\"Aucun chemin GeoJSON d'AOI principale fourni. Utilisation de l'AOI principale par défaut (Lomé, Togo).\")\n",
    "\n",
    "# Définir l'AOI d'Otsu (si fourni, sinon passer None à flood_detection pour sa valeur par défaut)\n",
    "otsu_aoi_geometry = None\n",
    "if otsu_aoi_geojson_path:\n",
    "    try:\n",
    "        otsu_aoi_geometry = utils.load_aoi_from_geojson(otsu_aoi_geojson_path)\n",
    "        print(f\"AOI d'Otsu spécifique chargée depuis {otsu_aoi_geojson_path}\")\n",
    "    except ValueError as e:\n",
    "        print(f\"AVERTISSEMENT : Erreur lors du chargement de l'AOI d'Otsu spécifique depuis GeoJSON : {e}. La détection des inondations utilisera son AOI d'Otsu par défaut interne.\")\n",
    "        # otsu_aoi_geometry reste None, ce qui déclenchera la valeur par défaut dans flood_detection.py\n",
    "else:\n",
    "    print(\"Aucun chemin GeoJSON d'AOI d'Otsu spécifique fourni. La détection des inondations utilisera son AOI d'Otsu par défaut interne (Lac Togo).\")\n",
    "\n",
    "print(f\"\\nTraitement de l'événement d'inondation pour le {event_date_str} dans l'AOI principale : {AOI.getInfo()['coordinates']}\")\n"
   ]
  },
  {
   "cell_type": "markdown",
   "id": "28a788fa",
   "metadata": {},
   "source": [
    "## **3. Data Processing and Flood Detection**\n",
    "This section executes the flood detection pipeline based on the chosen `detection_method`."
   ]
  },
  {
   "cell_type": "code",
   "execution_count": 3,
   "id": "8208760f",
   "metadata": {},
   "outputs": [
    {
     "data": {
      "text/html": [
       "\n",
       "            <style>\n",
       "                .geemap-dark {\n",
       "                    --jp-widgets-color: white;\n",
       "                    --jp-widgets-label-color: white;\n",
       "                    --jp-ui-font-color1: white;\n",
       "                    --jp-layout-color2: #454545;\n",
       "                    background-color: #383838;\n",
       "                }\n",
       "\n",
       "                .geemap-dark .jupyter-button {\n",
       "                    --jp-layout-color3: #383838;\n",
       "                }\n",
       "\n",
       "                .geemap-colab {\n",
       "                    background-color: var(--colab-primary-surface-color, white);\n",
       "                }\n",
       "\n",
       "                .geemap-colab .jupyter-button {\n",
       "                    --jp-layout-color3: var(--colab-primary-surface-color, white);\n",
       "                }\n",
       "            </style>\n",
       "            "
      ],
      "text/plain": [
       "<IPython.core.display.HTML object>"
      ]
     },
     "metadata": {},
     "output_type": "display_data"
    },
    {
     "name": "stdout",
     "output_type": "stream",
     "text": [
      "\n",
      "--- Sentinel-1 Data Processing ---\n",
      "Error during SAR flood extent detection or refinement : '<=' not supported between instances of 'Date' and 'Date'\n",
      "\n",
      "---  Sentinel-2 Data Processing ---\n",
      "\tTotal Sentinel-2 images available: 6 images\n",
      "Sentinel-2 data prepared and NDWI calculated.\n",
      "Error during S2 flood extent detection or refinement : Image.select: Band pattern 'B3' was applied to an Image with no bands. See https://developers.google.com/earth-engine/guides/debugging#no-bands\n",
      "\n",
      "EWater Area Estimates  (in km²) :\n",
      "Sentinel-2 Flood Areas        : N/A (S2 processing skipped or failed)\n",
      "SAR-based Flood Areas         : N/A (SAR processing skipped or failed)\n"
     ]
    }
   ],
   "source": [
    "sar_pre_event, sar_post_event = None, None\n",
    "s2_pre_event, s2_post_event = None, None\n",
    "ndwi_pre_event_mask, ndwi_post_event_mask = None, None\n",
    "\n",
    "s1_flood_extent_image = None\n",
    "s1_flooded_extend_image = None\n",
    "s1_flooded_area_sqkm = 0.0\n",
    "\n",
    "s2_flood_extent_image = None\n",
    "s2_flooded_extent_image = None\n",
    "s2_flooded_area_sqkm = 0.0\n",
    "\n",
    "\n",
    "# --- Conditional Data Processing and Flood Detection ---\n",
    "\n",
    "if detection_method in [\"sar\", \"both\"]:\n",
    "    # --- Sentinel-1 Processing ---\n",
    "    print(\"\\n--- Sentinel-1 Data Processing ---\")\n",
    "    s1_start_date = event_date.advance(-sar_search_days, 'day')\n",
    "    s1_end_date = event_date.advance(sar_search_days, 'day')\n",
    "    try:\n",
    "        s1_collection = data_ingestion.get_sentinel1_collection(AOI, s1_start_date, s1_end_date)\n",
    "        sar_pre_event, sar_post_event = preprocessing.get_pre_and_post_sar_images(\n",
    "            s1_collection, AOI, event_date, sar_search_days\n",
    "        )\n",
    "        print(\"Sentinel-1 data prepared.\")\n",
    "\n",
    "        # --- Flood Detection (SAR-based) ---\n",
    "        print(\"\\n--- Flood Extent Detection (SAR-based) ---\")\n",
    "        # Pass otsu_aoi_geometry directly\n",
    "        water_pre, water_post, s1_flood_extent_image = flood_detection.detect_flood_extent(\n",
    "            pre_event_sar=sar_pre_event, \n",
    "            post_event_sar=sar_post_event, \n",
    "            aoi=AOI, # Main AOI for clipping/context\n",
    "            otsu_aoi=otsu_aoi_geometry # Pass the ee.Geometry directly\n",
    "        )\n",
    "        \n",
    "        if s1_flood_extent_image: # Only refine if initial flood extent was calculated\n",
    "            s1_flooded_extend_image = flood_detection.refine_flood_extent_with_topology(s1_flood_extent_image, AOI)\n",
    "            s1_flooded_area_sqkm = flood_detection.calculate_flood_extension(s1_flooded_extend_image) \n",
    "            print(f\"Calculated effective SAR-based flooded area (after refinement): {s1_flooded_area_sqkm:.2f} km²\")\n",
    "        else:\n",
    "            print(\"SAR-based flood extent not calculated due to inconsistent pixel counts or other issues.\")\n",
    "\n",
    "    except ValueError as e:\n",
    "        print(f\"Sentinel-1 processing skipped due to : {e}\")\n",
    "        sar_pre_event, sar_post_event = None, None\n",
    "        s1_flood_extent_image = None\n",
    "        s1_flooded_extend_image = None\n",
    "    except Exception as e:\n",
    "        print(f\"Error during SAR flood extent detection or refinement : {e}\")\n",
    "        s1_flood_extent_image = None\n",
    "        s1_flooded_extend_image = None\n",
    "else:\n",
    "    print(\"\\nSkipping SAR-based processing and flood detection as per user selection.\")\n",
    "\n",
    "\n",
    "if detection_method in [\"s2\", \"both\"]:\n",
    "    # ---  Sentinel-2 Processing ---\n",
    "    print(\"\\n---  Sentinel-2 Data Processing ---\")\n",
    "    s2_start_date = event_date.advance(-s2_search_days, 'day')\n",
    "    s2_end_date = event_date.advance(s2_search_days, 'day')\n",
    "    \n",
    "    try:\n",
    "        s2_collection = data_ingestion.get_sentinel2_collection(AOI, s2_start_date, s2_end_date)\n",
    "        s2_pre_event, s2_post_event = preprocessing.get_pre_and_post_s2_images(\n",
    "            s2_collection, AOI, event_date, s2_search_days\n",
    "        )\n",
    "        ndwi_pre_event_mask = preprocessing.calculate_ndwi(s2_pre_event).gt(0).rename(\"ndwi_water_pre\")\n",
    "        ndwi_post_event_mask = preprocessing.calculate_ndwi(s2_post_event).gt(0).rename(\"ndwi_water_post\")\n",
    "        print(\"Sentinel-2 data prepared and NDWI calculated.\")\n",
    "\n",
    "        # -------------Detect flood extent using NDWI---------------\n",
    "        s2_flood_extent_image = flood_detection.detect_flood_extent_s2_ndwi(ndwi_pre_event_mask, ndwi_post_event_mask, AOI)\n",
    "        \n",
    "        if s2_flood_extent_image: # Only refine if initial flood extent was calculated\n",
    "            s2_flooded_extent_image = flood_detection.refine_flood_extent_with_topology(s2_flood_extent_image, AOI)\n",
    "            s2_flooded_area_sqkm = flood_detection.calculate_flood_extension(s2_flooded_extent_image) \n",
    "            print(f\"Calculated Sentinel-2 NDWI-based flooded area : {s2_flooded_area_sqkm:.2f} km²\")\n",
    "        else:\n",
    "            print(\"Sentinel-2 NDWI-based flood extent not calculated due to inconsistent pixel counts or other issues.\")\n",
    "\n",
    "    except ValueError as e:\n",
    "        print(f\"Sentinel-2 processing skipped due to : {e}\")\n",
    "        s2_pre_event, s2_post_event = None, None\n",
    "        ndwi_pre_event_mask, ndwi_post_event_mask = None, None\n",
    "        s2_flood_extent_image = None\n",
    "        s2_flooded_extent_image = None\n",
    "    except Exception as e:\n",
    "        print(f\"Error during S2 flood extent detection or refinement : {e}\")\n",
    "        s2_flood_extent_image = None\n",
    "        s2_flooded_extent_image = None\n",
    "else:\n",
    "    print(\"\\nSkipping Sentinel-2 processing and flood detection as per user selection.\")\n",
    "\n",
    "\n",
    "# --- Print Water Area Estimates  ---\n",
    "print(\"\\nEWater Area Estimates  (in km²) :\")\n",
    "if detection_method in [\"s2\", \"both\"] and s2_flooded_extent_image: # Afficher uniquement si l'étendue des inondations S2 a été calculée\n",
    "    print(f\"Flood Extent (Sentinel-2 NDWI) : {s2_flooded_area_sqkm:.2f} km²\")\n",
    "else:\n",
    "    print(\"Sentinel-2 Flood Areas        : N/A (S2 processing skipped or failed)\")\n",
    "\n",
    "if detection_method in [\"sar\", \"both\"] and s1_flooded_extend_image:\n",
    "    print(f\"Effective Flooded Area (SAR)  : {s1_flooded_area_sqkm:.2f} km²\")\n",
    "else:\n",
    "    print(\"SAR-based Flood Areas         : N/A (SAR processing skipped or failed)\")"
   ]
  },
  {
   "cell_type": "markdown",
   "id": "821d6a3b",
   "metadata": {},
   "source": [
    "## **4. Visualization of Results**\n",
    "This section creates an interactive map to visualize the input data and flood detection results."
   ]
  },
  {
   "cell_type": "code",
   "execution_count": 7,
   "id": "0c1981b8",
   "metadata": {},
   "outputs": [
    {
     "data": {
      "text/html": [
       "\n",
       "            <style>\n",
       "                .geemap-dark {\n",
       "                    --jp-widgets-color: white;\n",
       "                    --jp-widgets-label-color: white;\n",
       "                    --jp-ui-font-color1: white;\n",
       "                    --jp-layout-color2: #454545;\n",
       "                    background-color: #383838;\n",
       "                }\n",
       "\n",
       "                .geemap-dark .jupyter-button {\n",
       "                    --jp-layout-color3: #383838;\n",
       "                }\n",
       "\n",
       "                .geemap-colab {\n",
       "                    background-color: var(--colab-primary-surface-color, white);\n",
       "                }\n",
       "\n",
       "                .geemap-colab .jupyter-button {\n",
       "                    --jp-layout-color3: var(--colab-primary-surface-color, white);\n",
       "                }\n",
       "            </style>\n",
       "            "
      ],
      "text/plain": [
       "<IPython.core.display.HTML object>"
      ]
     },
     "metadata": {},
     "output_type": "display_data"
    },
    {
     "name": "stdout",
     "output_type": "stream",
     "text": [
      "\n",
      "--- Generating Visualization ---\n",
      "\n",
      "Map ready for display.\n"
     ]
    },
    {
     "data": {
      "application/vnd.jupyter.widget-view+json": {
       "model_id": "b53caa7208fe455f8ca76946e73f51a9",
       "version_major": 2,
       "version_minor": 0
      },
      "text/plain": [
       "Map(center=[6.2271085006689955, 1.4893167282491524], controls=(WidgetControl(options=['position', 'transparent…"
      ]
     },
     "execution_count": 7,
     "metadata": {},
     "output_type": "execute_result"
    }
   ],
   "source": [
    "print(\"\\n--- Generating Visualization ---\")\n",
    "map_center = AOI.centroid().coordinates().getInfo()[::-1] # [lon, lat] -> [lat, lon]\n",
    "m = visualization.create_map(map_center, zoom=10)\n",
    "\n",
    "# Add Main AOI to the map\n",
    "m.addLayer(AOI, {'color': 'blue', 'fillColor': '00000000'}, 'Main AOI')\n",
    "\n",
    "# Add Otsu AOI to the map if it was provided\n",
    "if otsu_aoi_geometry:\n",
    "    m.addLayer(otsu_aoi_geometry, {'color': 'green', 'fillColor': '00000000'}, 'Otsu AOI')\n",
    "\n",
    "if detection_method in [\"sar\", \"both\"] and sar_pre_event and sar_post_event:\n",
    "    visualization.add_sar_layers(m, sar_pre_event, sar_post_event)\n",
    "\n",
    "# Add pre-event and post-event SAR water masks\n",
    "    if detection_method in [\"sar\", \"both\"] and water_pre and water_post:\n",
    "        # Use updateMask to ensure only the water pixels are visible\n",
    "        visualization.add_sar_layers(m, water_pre.updateMask(water_pre), water_post.updateMask(water_post), \n",
    "                                     layer_names=['Pre-event SAR Water', 'Post-event SAR Water'],\n",
    "                                     vis_params={'min': 0, 'max': 1, 'palette': ['white', 'blue']})\n",
    "\n",
    "if detection_method in [\"s2\", \"both\"] and ndwi_pre_event_mask and ndwi_post_event_mask:\n",
    "    visualization.add_ndwi_layers(m, ndwi_pre_event_mask, ndwi_post_event_mask)\n",
    "\n",
    "# Ajouter les couches d'étendue d'inondation basées sur le SAR\n",
    "if detection_method in [\"sar\", \"both\"] and s1_flooded_extend_image:\n",
    "    visualization.add_effective_flood_extent_layer(m, s1_flooded_extend_image, zoom_to_layer=False) \n",
    "\n",
    "# Ajouter la couche d'étendue d'inondation basée sur S2\n",
    "if detection_method in [\"s2\", \"both\"] and s2_flooded_extent_image:\n",
    "    visualization.add_s2_flood_extent_layer(m, s2_flooded_extent_image, zoom_to_layer=True) # Zoomer sur l'étendue des inondations S2 si disponible\n",
    "\n",
    "print(\"\\nMap ready for display.\")\n",
    "m # Displays the interactive map\n"
   ]
  },
  {
   "cell_type": "markdown",
   "id": "12649664",
   "metadata": {},
   "source": [
    "## **5. Exporting Results**\n",
    "If `export_results` is set to `True`, this section will export the flood extent images to your Google Earth Engine Assets."
   ]
  },
  {
   "cell_type": "code",
   "execution_count": null,
   "id": "2b53fabe",
   "metadata": {},
   "outputs": [],
   "source": [
    "if export_results:\n",
    "    print(f\"\\n--- Exporting Results to GEE Asset (Prefix: {asset_id_prefix}) ---\")\n",
    "    current_date_time = datetime.datetime.now().strftime(\"%Y%m%d_%H%M%S\")\n",
    "\n",
    "    if detection_method in [\"sar\", \"both\"] and s1_flooded_extend_image: # Export effective SAR flood area\n",
    "        export_description_effective_extent = f\"Effective_Flood_Extent_SAR_{event_date_str.replace('-', '')}_{current_date_time}\"\n",
    "        utils.export_image_to_asset(s1_flooded_extend_image, export_description_effective_extent, asset_id_prefix, AOI)\n",
    "    else:\n",
    "        print(\"No effective SAR flood extent to export based on selection or availability.\")\n",
    "\n",
    "    if detection_method in [\"s2\", \"both\"] and s2_flooded_extent_image: # Export S2 NDWI flood area\n",
    "        export_description_s2_extent = f\"Flood_Extent_S2_NDWI_{event_date_str.replace('-', '')}_{current_date_time}\"\n",
    "        utils.export_image_to_asset(s2_flooded_extent_image, export_description_s2_extent, asset_id_prefix, AOI)\n",
    "    else:\n",
    "        print(\"No Sentinel-2 NDWI flood extent to export based on selection or availability.\")\n",
    "        \n",
    "else:\n",
    "    print(\"\\nSkipping export of results as 'export_results' is False.\")\n",
    "\n",
    "print(\"\\nFlood mapping process completed.\")\n"
   ]
  },
  {
   "cell_type": "markdown",
   "id": "644f480c",
   "metadata": {},
   "source": []
  }
 ],
 "metadata": {
  "kernelspec": {
   "display_name": "base",
   "language": "python",
   "name": "python3"
  },
  "language_info": {
   "codemirror_mode": {
    "name": "ipython",
    "version": 3
   },
   "file_extension": ".py",
   "mimetype": "text/x-python",
   "name": "python",
   "nbconvert_exporter": "python",
   "pygments_lexer": "ipython3",
   "version": "3.10.16"
  }
 },
 "nbformat": 4,
 "nbformat_minor": 5
}
